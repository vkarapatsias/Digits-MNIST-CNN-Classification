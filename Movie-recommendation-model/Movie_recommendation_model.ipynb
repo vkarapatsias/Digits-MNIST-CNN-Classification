{
 "cells": [
  {
   "cell_type": "markdown",
   "id": "ed09f078-f981-4299-8e29-45eb998b5abc",
   "metadata": {},
   "source": [
    "# Movie Recommendation model\n",
    "\n",
    "There can be three different types of recommendation systems:\n",
    "1. Demographic filtering, where the recommendations are the same for every user despite their interests. The more popular and more critically acclaimed movies are highly recommended.\n",
    "2. Content-based filtering, where movie metadata is taken into consideration. This will make the recommendation a bit more personalised since similar movies should be suggested to the user.\n",
    "3. Collaboration-based filtering, where users with similar interests are grouped and movies are recommended to them\n",
    "\n",
    "## Libraries"
   ]
  },
  {
   "cell_type": "code",
   "execution_count": 1,
   "id": "e650726f-4f83-4db7-8373-946a7c3380b2",
   "metadata": {},
   "outputs": [],
   "source": [
    "import numpy as np\n",
    "import pandas as pd\n",
    "import matplotlib.pyplot as plt\n",
    "from sklearn.feature_extraction.text import TfidfVectorizer\n",
    "from sklearn.feature_extraction.text import CountVectorizer\n",
    "from sklearn.metrics.pairwise import linear_kernel\n",
    "from sklearn.metrics.pairwise import cosine_similarity\n",
    "from ast import literal_eval"
   ]
  },
  {
   "cell_type": "markdown",
   "id": "e60f52f7-2e5d-4a8a-810e-2f2b6672e181",
   "metadata": {},
   "source": [
    "## Dataset"
   ]
  },
  {
   "cell_type": "code",
   "execution_count": 2,
   "id": "6dd51384-57a8-4aa6-afd6-659adc43360d",
   "metadata": {},
   "outputs": [
    {
     "name": "stderr",
     "output_type": "stream",
     "text": [
      "/tmp/ipykernel_257350/1629353149.py:1: DtypeWarning: Columns (10) have mixed types. Specify dtype option on import or set low_memory=False.\n",
      "  metadata_df = pd. read_csv('../datasets/movies_dataset/movies_metadata.csv')\n"
     ]
    },
    {
     "name": "stdout",
     "output_type": "stream",
     "text": [
      "Samples: 45466 \n",
      "Features: 24\n"
     ]
    },
    {
     "data": {
      "text/html": [
       "<div>\n",
       "<style scoped>\n",
       "    .dataframe tbody tr th:only-of-type {\n",
       "        vertical-align: middle;\n",
       "    }\n",
       "\n",
       "    .dataframe tbody tr th {\n",
       "        vertical-align: top;\n",
       "    }\n",
       "\n",
       "    .dataframe thead th {\n",
       "        text-align: right;\n",
       "    }\n",
       "</style>\n",
       "<table border=\"1\" class=\"dataframe\">\n",
       "  <thead>\n",
       "    <tr style=\"text-align: right;\">\n",
       "      <th></th>\n",
       "      <th>adult</th>\n",
       "      <th>belongs_to_collection</th>\n",
       "      <th>budget</th>\n",
       "      <th>genres</th>\n",
       "      <th>homepage</th>\n",
       "      <th>id</th>\n",
       "      <th>imdb_id</th>\n",
       "      <th>original_language</th>\n",
       "      <th>original_title</th>\n",
       "      <th>overview</th>\n",
       "      <th>...</th>\n",
       "      <th>release_date</th>\n",
       "      <th>revenue</th>\n",
       "      <th>runtime</th>\n",
       "      <th>spoken_languages</th>\n",
       "      <th>status</th>\n",
       "      <th>tagline</th>\n",
       "      <th>title</th>\n",
       "      <th>video</th>\n",
       "      <th>vote_average</th>\n",
       "      <th>vote_count</th>\n",
       "    </tr>\n",
       "  </thead>\n",
       "  <tbody>\n",
       "    <tr>\n",
       "      <th>0</th>\n",
       "      <td>False</td>\n",
       "      <td>{'id': 10194, 'name': 'Toy Story Collection', ...</td>\n",
       "      <td>30000000</td>\n",
       "      <td>[Animation, Comedy, Family]</td>\n",
       "      <td>http://toystory.disney.com/toy-story</td>\n",
       "      <td>862</td>\n",
       "      <td>tt0114709</td>\n",
       "      <td>en</td>\n",
       "      <td>Toy Story</td>\n",
       "      <td>Led by Woody, Andy's toys live happily in his ...</td>\n",
       "      <td>...</td>\n",
       "      <td>1995-10-30</td>\n",
       "      <td>373554033.0</td>\n",
       "      <td>81.0</td>\n",
       "      <td>[{'iso_639_1': 'en', 'name': 'English'}]</td>\n",
       "      <td>Released</td>\n",
       "      <td>NaN</td>\n",
       "      <td>Toy Story</td>\n",
       "      <td>False</td>\n",
       "      <td>7.7</td>\n",
       "      <td>5415.0</td>\n",
       "    </tr>\n",
       "    <tr>\n",
       "      <th>1</th>\n",
       "      <td>False</td>\n",
       "      <td>NaN</td>\n",
       "      <td>65000000</td>\n",
       "      <td>[Adventure, Fantasy, Family]</td>\n",
       "      <td>NaN</td>\n",
       "      <td>8844</td>\n",
       "      <td>tt0113497</td>\n",
       "      <td>en</td>\n",
       "      <td>Jumanji</td>\n",
       "      <td>When siblings Judy and Peter discover an encha...</td>\n",
       "      <td>...</td>\n",
       "      <td>1995-12-15</td>\n",
       "      <td>262797249.0</td>\n",
       "      <td>104.0</td>\n",
       "      <td>[{'iso_639_1': 'en', 'name': 'English'}, {'iso...</td>\n",
       "      <td>Released</td>\n",
       "      <td>Roll the dice and unleash the excitement!</td>\n",
       "      <td>Jumanji</td>\n",
       "      <td>False</td>\n",
       "      <td>6.9</td>\n",
       "      <td>2413.0</td>\n",
       "    </tr>\n",
       "    <tr>\n",
       "      <th>2</th>\n",
       "      <td>False</td>\n",
       "      <td>{'id': 119050, 'name': 'Grumpy Old Men Collect...</td>\n",
       "      <td>0</td>\n",
       "      <td>[Romance, Comedy]</td>\n",
       "      <td>NaN</td>\n",
       "      <td>15602</td>\n",
       "      <td>tt0113228</td>\n",
       "      <td>en</td>\n",
       "      <td>Grumpier Old Men</td>\n",
       "      <td>A family wedding reignites the ancient feud be...</td>\n",
       "      <td>...</td>\n",
       "      <td>1995-12-22</td>\n",
       "      <td>0.0</td>\n",
       "      <td>101.0</td>\n",
       "      <td>[{'iso_639_1': 'en', 'name': 'English'}]</td>\n",
       "      <td>Released</td>\n",
       "      <td>Still Yelling. Still Fighting. Still Ready for...</td>\n",
       "      <td>Grumpier Old Men</td>\n",
       "      <td>False</td>\n",
       "      <td>6.5</td>\n",
       "      <td>92.0</td>\n",
       "    </tr>\n",
       "    <tr>\n",
       "      <th>3</th>\n",
       "      <td>False</td>\n",
       "      <td>NaN</td>\n",
       "      <td>16000000</td>\n",
       "      <td>[Comedy, Drama, Romance]</td>\n",
       "      <td>NaN</td>\n",
       "      <td>31357</td>\n",
       "      <td>tt0114885</td>\n",
       "      <td>en</td>\n",
       "      <td>Waiting to Exhale</td>\n",
       "      <td>Cheated on, mistreated and stepped on, the wom...</td>\n",
       "      <td>...</td>\n",
       "      <td>1995-12-22</td>\n",
       "      <td>81452156.0</td>\n",
       "      <td>127.0</td>\n",
       "      <td>[{'iso_639_1': 'en', 'name': 'English'}]</td>\n",
       "      <td>Released</td>\n",
       "      <td>Friends are the people who let you be yourself...</td>\n",
       "      <td>Waiting to Exhale</td>\n",
       "      <td>False</td>\n",
       "      <td>6.1</td>\n",
       "      <td>34.0</td>\n",
       "    </tr>\n",
       "    <tr>\n",
       "      <th>4</th>\n",
       "      <td>False</td>\n",
       "      <td>{'id': 96871, 'name': 'Father of the Bride Col...</td>\n",
       "      <td>0</td>\n",
       "      <td>[Comedy]</td>\n",
       "      <td>NaN</td>\n",
       "      <td>11862</td>\n",
       "      <td>tt0113041</td>\n",
       "      <td>en</td>\n",
       "      <td>Father of the Bride Part II</td>\n",
       "      <td>Just when George Banks has recovered from his ...</td>\n",
       "      <td>...</td>\n",
       "      <td>1995-02-10</td>\n",
       "      <td>76578911.0</td>\n",
       "      <td>106.0</td>\n",
       "      <td>[{'iso_639_1': 'en', 'name': 'English'}]</td>\n",
       "      <td>Released</td>\n",
       "      <td>Just When His World Is Back To Normal... He's ...</td>\n",
       "      <td>Father of the Bride Part II</td>\n",
       "      <td>False</td>\n",
       "      <td>5.7</td>\n",
       "      <td>173.0</td>\n",
       "    </tr>\n",
       "  </tbody>\n",
       "</table>\n",
       "<p>5 rows × 24 columns</p>\n",
       "</div>"
      ],
      "text/plain": [
       "   adult                              belongs_to_collection    budget  \\\n",
       "0  False  {'id': 10194, 'name': 'Toy Story Collection', ...  30000000   \n",
       "1  False                                                NaN  65000000   \n",
       "2  False  {'id': 119050, 'name': 'Grumpy Old Men Collect...         0   \n",
       "3  False                                                NaN  16000000   \n",
       "4  False  {'id': 96871, 'name': 'Father of the Bride Col...         0   \n",
       "\n",
       "                         genres                              homepage     id  \\\n",
       "0   [Animation, Comedy, Family]  http://toystory.disney.com/toy-story    862   \n",
       "1  [Adventure, Fantasy, Family]                                   NaN   8844   \n",
       "2             [Romance, Comedy]                                   NaN  15602   \n",
       "3      [Comedy, Drama, Romance]                                   NaN  31357   \n",
       "4                      [Comedy]                                   NaN  11862   \n",
       "\n",
       "     imdb_id original_language               original_title  \\\n",
       "0  tt0114709                en                    Toy Story   \n",
       "1  tt0113497                en                      Jumanji   \n",
       "2  tt0113228                en             Grumpier Old Men   \n",
       "3  tt0114885                en            Waiting to Exhale   \n",
       "4  tt0113041                en  Father of the Bride Part II   \n",
       "\n",
       "                                            overview  ... release_date  \\\n",
       "0  Led by Woody, Andy's toys live happily in his ...  ...   1995-10-30   \n",
       "1  When siblings Judy and Peter discover an encha...  ...   1995-12-15   \n",
       "2  A family wedding reignites the ancient feud be...  ...   1995-12-22   \n",
       "3  Cheated on, mistreated and stepped on, the wom...  ...   1995-12-22   \n",
       "4  Just when George Banks has recovered from his ...  ...   1995-02-10   \n",
       "\n",
       "       revenue runtime                                   spoken_languages  \\\n",
       "0  373554033.0    81.0           [{'iso_639_1': 'en', 'name': 'English'}]   \n",
       "1  262797249.0   104.0  [{'iso_639_1': 'en', 'name': 'English'}, {'iso...   \n",
       "2          0.0   101.0           [{'iso_639_1': 'en', 'name': 'English'}]   \n",
       "3   81452156.0   127.0           [{'iso_639_1': 'en', 'name': 'English'}]   \n",
       "4   76578911.0   106.0           [{'iso_639_1': 'en', 'name': 'English'}]   \n",
       "\n",
       "     status                                            tagline  \\\n",
       "0  Released                                                NaN   \n",
       "1  Released          Roll the dice and unleash the excitement!   \n",
       "2  Released  Still Yelling. Still Fighting. Still Ready for...   \n",
       "3  Released  Friends are the people who let you be yourself...   \n",
       "4  Released  Just When His World Is Back To Normal... He's ...   \n",
       "\n",
       "                         title  video vote_average vote_count  \n",
       "0                    Toy Story  False          7.7     5415.0  \n",
       "1                      Jumanji  False          6.9     2413.0  \n",
       "2             Grumpier Old Men  False          6.5       92.0  \n",
       "3            Waiting to Exhale  False          6.1       34.0  \n",
       "4  Father of the Bride Part II  False          5.7      173.0  \n",
       "\n",
       "[5 rows x 24 columns]"
      ]
     },
     "execution_count": 2,
     "metadata": {},
     "output_type": "execute_result"
    }
   ],
   "source": [
    "metadata_df = pd. read_csv('../datasets/movies_dataset/movies_metadata.csv')\n",
    "metadata_df['genres'] = metadata_df['genres'].fillna('[]').apply(literal_eval).apply(lambda x: [i['name'] for i in x] if isinstance(x, list) else [])\n",
    "print(f'Samples: {metadata_df.shape[0]} \\nFeatures: {metadata_df.shape[1]}')\n",
    "metadata_df.head()"
   ]
  },
  {
   "cell_type": "code",
   "execution_count": 3,
   "id": "d65974a4-1ccd-42b3-bbbe-de1d62134bb7",
   "metadata": {},
   "outputs": [
    {
     "data": {
      "text/plain": [
       "adult                        0\n",
       "belongs_to_collection    40972\n",
       "budget                       0\n",
       "genres                       0\n",
       "homepage                 37684\n",
       "id                           0\n",
       "imdb_id                     17\n",
       "original_language           11\n",
       "original_title               0\n",
       "overview                   954\n",
       "popularity                   5\n",
       "poster_path                386\n",
       "production_companies         3\n",
       "production_countries         3\n",
       "release_date                87\n",
       "revenue                      6\n",
       "runtime                    263\n",
       "spoken_languages             6\n",
       "status                      87\n",
       "tagline                  25054\n",
       "title                        6\n",
       "video                        6\n",
       "vote_average                 6\n",
       "vote_count                   6\n",
       "dtype: int64"
      ]
     },
     "execution_count": 3,
     "metadata": {},
     "output_type": "execute_result"
    }
   ],
   "source": [
    "# Missing values\n",
    "metadata_df.isnull().sum()"
   ]
  },
  {
   "cell_type": "markdown",
   "id": "61ed0160-e80a-4daa-ac50-9d34ee92e3d2",
   "metadata": {},
   "source": [
    "## Demographic filtering\n",
    "This is going to be the simplest and most generic model, since it only requires data sorting based on their rating and popularity.\n",
    "IMDB's weighted rating formula is used to sort the movies:\n",
    "\n",
    "Weighted Rating (WR) = $(\\frac{v}{v + m} . R) + (\\frac{m}{v + m} . C)$\n",
    "\n",
    "where,\n",
    "* *v* is the number of votes for the movie\n",
    "* *m* is the minimum votes required to be listed in the chart\n",
    "* *R* is the average rating of the movie\n",
    "* *C* is the mean vote across the whole report\n",
    "\n",
    "*m* will be defined using the **90th** percentile. This can be adjusted to cut-off or allow more movies in our set."
   ]
  },
  {
   "cell_type": "code",
   "execution_count": 4,
   "id": "3b4a1395-27ff-4f6f-961f-a7f64851b930",
   "metadata": {},
   "outputs": [],
   "source": [
    "def weighted_rating(movie_df, C, m):\n",
    "    v = movie_df['vote_count']\n",
    "    R = movie_df['vote_average']\n",
    "    return (v/(v+m) * R) + (m/(m+v) * C)"
   ]
  },
  {
   "cell_type": "code",
   "execution_count": 5,
   "id": "f1c78485-7503-4e85-916d-85bcaf8bfa92",
   "metadata": {},
   "outputs": [],
   "source": [
    "def build_chart(df, genre=None, percentile=0.9):\n",
    "    if genre:\n",
    "        df = df[df['genres'].apply(lambda x: genre in x)]\n",
    "    C = df[\"vote_average\"].astype('int').mean()\n",
    "    m = df[\"vote_count\"].astype('int').quantile(percentile)\n",
    "    print(f'C: {C}\\nm: {m}')\n",
    "\n",
    "    popular_movies_df = cleaned_df.copy().loc[cleaned_df[\"vote_count\"] >= m][['title', 'year', 'vote_count', 'vote_average', 'popularity', 'genres']].reset_index(drop=True)\n",
    "    popular_movies_df['weighted_rating'] = popular_movies_df.apply(weighted_rating, args=(C, m), axis=1)\n",
    "    popular_movies_df = popular_movies_df.sort_values('weighted_rating', ascending=False)\n",
    "\n",
    "    return popular_movies_df"
   ]
  },
  {
   "cell_type": "code",
   "execution_count": 6,
   "id": "fa0fb30d-d62c-46b1-bb27-289101ef53e2",
   "metadata": {},
   "outputs": [
    {
     "name": "stdout",
     "output_type": "stream",
     "text": [
      "C: 5.244896612406511\n",
      "m: 160.0\n"
     ]
    },
    {
     "name": "stderr",
     "output_type": "stream",
     "text": [
      "/tmp/ipykernel_257350/621783621.py:3: SettingWithCopyWarning: \n",
      "A value is trying to be set on a copy of a slice from a DataFrame.\n",
      "Try using .loc[row_indexer,col_indexer] = value instead\n",
      "\n",
      "See the caveats in the documentation: https://pandas.pydata.org/pandas-docs/stable/user_guide/indexing.html#returning-a-view-versus-a-copy\n",
      "  cleaned_df['year'] = pd.to_datetime(cleaned_df['release_date'], errors='coerce').apply(lambda x: str(x).split('-')[0] if x != np.nan else np.nan)\n"
     ]
    },
    {
     "data": {
      "text/html": [
       "<div>\n",
       "<style scoped>\n",
       "    .dataframe tbody tr th:only-of-type {\n",
       "        vertical-align: middle;\n",
       "    }\n",
       "\n",
       "    .dataframe tbody tr th {\n",
       "        vertical-align: top;\n",
       "    }\n",
       "\n",
       "    .dataframe thead th {\n",
       "        text-align: right;\n",
       "    }\n",
       "</style>\n",
       "<table border=\"1\" class=\"dataframe\">\n",
       "  <thead>\n",
       "    <tr style=\"text-align: right;\">\n",
       "      <th></th>\n",
       "      <th>title</th>\n",
       "      <th>year</th>\n",
       "      <th>vote_count</th>\n",
       "      <th>vote_average</th>\n",
       "      <th>popularity</th>\n",
       "      <th>genres</th>\n",
       "      <th>weighted_rating</th>\n",
       "    </tr>\n",
       "  </thead>\n",
       "  <tbody>\n",
       "    <tr>\n",
       "      <th>101</th>\n",
       "      <td>The Shawshank Redemption</td>\n",
       "      <td>1994</td>\n",
       "      <td>8358.0</td>\n",
       "      <td>8.5</td>\n",
       "      <td>51.645403</td>\n",
       "      <td>[Drama, Crime]</td>\n",
       "      <td>8.438857</td>\n",
       "    </tr>\n",
       "    <tr>\n",
       "      <th>230</th>\n",
       "      <td>The Godfather</td>\n",
       "      <td>1972</td>\n",
       "      <td>6024.0</td>\n",
       "      <td>8.5</td>\n",
       "      <td>41.109264</td>\n",
       "      <td>[Drama, Crime]</td>\n",
       "      <td>8.415780</td>\n",
       "    </tr>\n",
       "    <tr>\n",
       "      <th>1966</th>\n",
       "      <td>Dilwale Dulhania Le Jayenge</td>\n",
       "      <td>1995</td>\n",
       "      <td>661.0</td>\n",
       "      <td>9.1</td>\n",
       "      <td>34.457024</td>\n",
       "      <td>[Comedy, Drama, Romance]</td>\n",
       "      <td>8.348701</td>\n",
       "    </tr>\n",
       "    <tr>\n",
       "      <th>2398</th>\n",
       "      <td>The Dark Knight</td>\n",
       "      <td>2008</td>\n",
       "      <td>12269.0</td>\n",
       "      <td>8.3</td>\n",
       "      <td>123.167259</td>\n",
       "      <td>[Drama, Action, Crime, Thriller]</td>\n",
       "      <td>8.260671</td>\n",
       "    </tr>\n",
       "    <tr>\n",
       "      <th>916</th>\n",
       "      <td>Fight Club</td>\n",
       "      <td>1999</td>\n",
       "      <td>9678.0</td>\n",
       "      <td>8.3</td>\n",
       "      <td>63.869599</td>\n",
       "      <td>[Drama]</td>\n",
       "      <td>8.250313</td>\n",
       "    </tr>\n",
       "    <tr>\n",
       "      <th>91</th>\n",
       "      <td>Pulp Fiction</td>\n",
       "      <td>1994</td>\n",
       "      <td>8670.0</td>\n",
       "      <td>8.3</td>\n",
       "      <td>140.950236</td>\n",
       "      <td>[Thriller, Crime]</td>\n",
       "      <td>8.244641</td>\n",
       "    </tr>\n",
       "    <tr>\n",
       "      <th>168</th>\n",
       "      <td>Schindler's List</td>\n",
       "      <td>1993</td>\n",
       "      <td>4436.0</td>\n",
       "      <td>8.3</td>\n",
       "      <td>41.725123</td>\n",
       "      <td>[Drama, History, War]</td>\n",
       "      <td>8.193643</td>\n",
       "    </tr>\n",
       "    <tr>\n",
       "      <th>3738</th>\n",
       "      <td>Whiplash</td>\n",
       "      <td>2014</td>\n",
       "      <td>4376.0</td>\n",
       "      <td>8.3</td>\n",
       "      <td>64.29999</td>\n",
       "      <td>[Drama]</td>\n",
       "      <td>8.192236</td>\n",
       "    </tr>\n",
       "    <tr>\n",
       "      <th>1437</th>\n",
       "      <td>Spirited Away</td>\n",
       "      <td>2001</td>\n",
       "      <td>3968.0</td>\n",
       "      <td>8.3</td>\n",
       "      <td>41.048867</td>\n",
       "      <td>[Fantasy, Adventure, Animation, Family]</td>\n",
       "      <td>8.181585</td>\n",
       "    </tr>\n",
       "    <tr>\n",
       "      <th>726</th>\n",
       "      <td>Life Is Beautiful</td>\n",
       "      <td>1997</td>\n",
       "      <td>3643.0</td>\n",
       "      <td>8.3</td>\n",
       "      <td>39.39497</td>\n",
       "      <td>[Comedy, Drama]</td>\n",
       "      <td>8.171466</td>\n",
       "    </tr>\n",
       "  </tbody>\n",
       "</table>\n",
       "</div>"
      ],
      "text/plain": [
       "                            title  year  vote_count  vote_average  popularity  \\\n",
       "101      The Shawshank Redemption  1994      8358.0           8.5   51.645403   \n",
       "230                 The Godfather  1972      6024.0           8.5   41.109264   \n",
       "1966  Dilwale Dulhania Le Jayenge  1995       661.0           9.1   34.457024   \n",
       "2398              The Dark Knight  2008     12269.0           8.3  123.167259   \n",
       "916                    Fight Club  1999      9678.0           8.3   63.869599   \n",
       "91                   Pulp Fiction  1994      8670.0           8.3  140.950236   \n",
       "168              Schindler's List  1993      4436.0           8.3   41.725123   \n",
       "3738                     Whiplash  2014      4376.0           8.3    64.29999   \n",
       "1437                Spirited Away  2001      3968.0           8.3   41.048867   \n",
       "726             Life Is Beautiful  1997      3643.0           8.3    39.39497   \n",
       "\n",
       "                                       genres  weighted_rating  \n",
       "101                            [Drama, Crime]         8.438857  \n",
       "230                            [Drama, Crime]         8.415780  \n",
       "1966                 [Comedy, Drama, Romance]         8.348701  \n",
       "2398         [Drama, Action, Crime, Thriller]         8.260671  \n",
       "916                                   [Drama]         8.250313  \n",
       "91                          [Thriller, Crime]         8.244641  \n",
       "168                     [Drama, History, War]         8.193643  \n",
       "3738                                  [Drama]         8.192236  \n",
       "1437  [Fantasy, Adventure, Animation, Family]         8.181585  \n",
       "726                           [Comedy, Drama]         8.171466  "
      ]
     },
     "execution_count": 6,
     "metadata": {},
     "output_type": "execute_result"
    }
   ],
   "source": [
    "# Drop rows with NaN or null values only in columns 'vote_count' and 'vote_average'\n",
    "cleaned_df = metadata_df.dropna(subset=['vote_count', 'vote_average'])\n",
    "cleaned_df['year'] = pd.to_datetime(cleaned_df['release_date'], errors='coerce').apply(lambda x: str(x).split('-')[0] if x != np.nan else np.nan)\n",
    "\n",
    "popular_movies_df = build_chart(cleaned_df)\n",
    "popular_movies_df.head(10)"
   ]
  },
  {
   "cell_type": "code",
   "execution_count": 7,
   "id": "2fa48aa8-817b-4a36-902f-508642342c30",
   "metadata": {},
   "outputs": [],
   "source": [
    "def plot_chart(df, numOfDisplayedMovies, genre=None):\n",
    "    df['popularity'] = df['popularity'].astype(float)\n",
    "    popularity = df.sort_values(\"popularity\", ascending=False)\n",
    "    \n",
    "    plt.figure(figsize=(12, 6))\n",
    "    bars = plt.barh(df[\"title\"].head(numOfDisplayedMovies), df[\"popularity\"].head(numOfDisplayedMovies), align=\"center\", color=\"skyblue\")\n",
    "    \n",
    "    # Add value labels to the end of each bar\n",
    "    for bar, rating in zip(bars, df[\"weighted_rating\"].head(numOfDisplayedMovies)):\n",
    "        plt.text(bar.get_width() + 0.5, bar.get_y() + bar.get_height()/2, f'{rating:.2f}', va='center')\n",
    "    \n",
    "    plt.gca().invert_yaxis()\n",
    "    genreStr = \"Genre: \"\n",
    "    if genre:\n",
    "        genreStr += genre\n",
    "    else:\n",
    "        genreStr += \"any\"\n",
    "    plt.title(\"Top \" + str(numOfDisplayedMovies) + \" movies based on weighted rating. \" + genreStr)\n",
    "    plt.xlabel(\"Popularity\")\n",
    "    plt.ylabel(\"Movie name\")\n",
    "    plt.show()"
   ]
  },
  {
   "cell_type": "code",
   "execution_count": 8,
   "id": "a1bf427a-9f69-49a1-976b-11da6bf9b2db",
   "metadata": {},
   "outputs": [
    {
     "data": {
      "image/png": "[encoded data removed]",
      "text/plain": [
       "<Figure size 1200x600 with 1 Axes>"
      ]
     },
     "metadata": {},
     "output_type": "display_data"
    }
   ],
   "source": [
    "plot_chart(popular_movies_df, 15)"
   ]
  },
  {
   "cell_type": "markdown",
   "id": "0de77f7e-0b91-414e-934e-7986a0ffec45",
   "metadata": {},
   "source": [
    "Now we can repeat the process for specific movie genres:"
   ]
  },
  {
   "cell_type": "code",
   "execution_count": 9,
   "id": "8b3560df-fcc3-4dae-84bb-b0ab6cc18b91",
   "metadata": {},
   "outputs": [
    {
     "name": "stdout",
     "output_type": "stream",
     "text": [
      "C: 5.474344091014627\n",
      "m: 121.0\n"
     ]
    },
    {
     "data": {
      "image/png": "[encoded data removed]",
      "text/plain": [
       "<Figure size 1200x600 with 1 Axes>"
      ]
     },
     "metadata": {},
     "output_type": "display_data"
    }
   ],
   "source": [
    "popular_crime_movies_df = build_chart(cleaned_df, genre='Crime', percentile=0.8)\n",
    "popular_crime_movies_df.head(10)\n",
    "plot_chart(popular_crime_movies_df, 15, 'Crime')"
   ]
  },
  {
   "cell_type": "markdown",
   "id": "81349b16-ad46-4339-a964-4aac5a62d7eb",
   "metadata": {},
   "source": [
    "It is obvious that the recommender presented above, uses the same parameters and provides the same recommendations to everybody.  \n",
    "\n",
    "## Content-based Filtering\n",
    "To make it more personalised, a new model will be built, that takes into consideration the similarities between movies. This enables suggestions that are similar to a movie that the user liked previously. \n",
    "Some of the features that one can take into consideration to calculate the similarity could be:\n",
    "- cast\n",
    "- keywords\n",
    "- genre\n",
    "- overview\n",
    "- taglines"
   ]
  },
  {
   "cell_type": "code",
   "execution_count": 10,
   "id": "bea529be-060a-4b4c-b68b-1214c2589be8",
   "metadata": {},
   "outputs": [],
   "source": [
    "# Drop rows with incorrect data\n",
    "# Convert the column to numeric, coercing non-integer values to NaN\n",
    "metadata_df['id'] = pd.to_numeric(metadata_df['id'], errors='coerce')\n",
    "\n",
    "# Drop rows with NaN values in the specified column\n",
    "metadata_df = metadata_df.dropna(subset=['id'])\n",
    "\n",
    "metadata_df['id'] = metadata_df['id'].astype('int')"
   ]
  },
  {
   "cell_type": "code",
   "execution_count": 11,
   "id": "6579c782-7683-46d0-b043-db5cf45e4051",
   "metadata": {},
   "outputs": [
    {
     "data": {
      "text/plain": [
       "(9099, 24)"
      ]
     },
     "execution_count": 11,
     "metadata": {},
     "output_type": "execute_result"
    }
   ],
   "source": [
    "# Keep only the entries that appear in links_small.csv\n",
    "links_small = pd.read_csv('../datasets/movies_dataset/links_small.csv')\n",
    "links_small = links_small[links_small['tmdbId'].notnull()]['tmdbId'].astype('int')\n",
    "\n",
    "small_metadata_df = metadata_df[metadata_df['id'].isin(links_small)]\n",
    "small_metadata_df.shape"
   ]
  },
  {
   "cell_type": "markdown",
   "id": "0717ba94-4d2c-4c56-bef8-77fec848d9d5",
   "metadata": {},
   "source": [
    "### Overview and tagline"
   ]
  },
  {
   "cell_type": "code",
   "execution_count": 12,
   "id": "c01510b6-16d7-48cf-ad04-d4f27ff170c4",
   "metadata": {},
   "outputs": [
    {
     "name": "stderr",
     "output_type": "stream",
     "text": [
      "/tmp/ipykernel_257350/4217843720.py:2: SettingWithCopyWarning: \n",
      "A value is trying to be set on a copy of a slice from a DataFrame.\n",
      "Try using .loc[row_indexer,col_indexer] = value instead\n",
      "\n",
      "See the caveats in the documentation: https://pandas.pydata.org/pandas-docs/stable/user_guide/indexing.html#returning-a-view-versus-a-copy\n",
      "  small_metadata_df['tagline'] = small_metadata_df['tagline'].fillna('')\n",
      "/tmp/ipykernel_257350/4217843720.py:3: SettingWithCopyWarning: \n",
      "A value is trying to be set on a copy of a slice from a DataFrame.\n",
      "Try using .loc[row_indexer,col_indexer] = value instead\n",
      "\n",
      "See the caveats in the documentation: https://pandas.pydata.org/pandas-docs/stable/user_guide/indexing.html#returning-a-view-versus-a-copy\n",
      "  small_metadata_df['overview'] = small_metadata_df['overview'].fillna('')\n",
      "/tmp/ipykernel_257350/4217843720.py:6: SettingWithCopyWarning: \n",
      "A value is trying to be set on a copy of a slice from a DataFrame.\n",
      "Try using .loc[row_indexer,col_indexer] = value instead\n",
      "\n",
      "See the caveats in the documentation: https://pandas.pydata.org/pandas-docs/stable/user_guide/indexing.html#returning-a-view-versus-a-copy\n",
      "  small_metadata_df['description'] = small_metadata_df['overview'] + small_metadata_df['tagline']\n"
     ]
    },
    {
     "name": "stdout",
     "output_type": "stream",
     "text": [
      "Vectorizer shape : (9099, 268124)\n"
     ]
    }
   ],
   "source": [
    "# Replace NaNs with empty strings\n",
    "small_metadata_df['tagline'] = small_metadata_df['tagline'].fillna('')\n",
    "small_metadata_df['overview'] = small_metadata_df['overview'].fillna('')\n",
    "\n",
    "# Create a new cell containing both the information\n",
    "small_metadata_df['description'] = small_metadata_df['overview'] + small_metadata_df['tagline']\n",
    "\n",
    "# Define the model\n",
    "tfidf = TfidfVectorizer(analyzer='word',ngram_range=(1, 2),min_df=0.0, stop_words='english')\n",
    "tfidf_matrix = tfidf.fit_transform(small_metadata_df['description'])\n",
    "print(f\"Vectorizer shape : {tfidf_matrix.shape}\")\n",
    "\n"
   ]
  },
  {
   "cell_type": "markdown",
   "id": "55b2b2bc-a7fe-4f5e-8010-5c5e4a00b960",
   "metadata": {},
   "source": [
    "Since we have used the TF-IDF Vectorizer, the dot product of TF-IDF vectors is directly proportional to their cosine similarity. Therefore, using the dot product of TF-IDF vectors directly gives us the cosine similarity score without the need for additional normalization.\n",
    "\n",
    "sklearn's `linear_kernel` function efficiently computes the dot product between TF-IDF vectors, making it faster than explicitly computing `cosine_similarities`. Therefore, when using TF-IDF vectors for similarity calculations, `linear_kernel` is preferred for its speed and efficiency."
   ]
  },
  {
   "cell_type": "code",
   "execution_count": 13,
   "id": "c2abd8f7-8d46-4189-8715-7110bbe2e231",
   "metadata": {},
   "outputs": [],
   "source": [
    "# Compute cosine similarity\n",
    "cosine_sim = linear_kernel(tfidf_matrix, tfidf_matrix)"
   ]
  },
  {
   "cell_type": "code",
   "execution_count": 14,
   "id": "e7047cc3-5163-427a-9997-506e37d7c024",
   "metadata": {},
   "outputs": [],
   "source": [
    "def get_recommendations(title, dataset, maxNumOfSimilar=10):\n",
    "    titles = dataset['title']\n",
    "    indices = pd.Series(dataset.index, index=dataset['title'])\n",
    "    idx = indices[title]\n",
    "    sim_scores = list(enumerate(cosine_sim[idx]))\n",
    "    sim_scores = sorted(sim_scores, key=lambda x: x[1], reverse=True)\n",
    "    sim_scores = sim_scores[1:maxNumOfSimilar + 1]\n",
    "    movies_indices = [ind[0] for ind in sim_scores]\n",
    "    movies = dataset[\"title\"].iloc[movies_indices]\n",
    "    return movies"
   ]
  },
  {
   "cell_type": "code",
   "execution_count": 15,
   "id": "a9a349c0-f96f-435e-917d-edb3727fc9b4",
   "metadata": {},
   "outputs": [
    {
     "data": {
      "text/plain": [
       "973      The Godfather: Part II\n",
       "8387                 The Family\n",
       "3509                       Made\n",
       "4196         Johnny Dangerously\n",
       "29               Shanghai Triad\n",
       "5667                       Fury\n",
       "2412             American Movie\n",
       "1582    The Godfather: Part III\n",
       "4221                    8 Women\n",
       "2159              Summer of Sam\n",
       "618                     Thinner\n",
       "3609              Harlem Nights\n",
       "8816              Run All Night\n",
       "3288          Jaws: The Revenge\n",
       "2192           The Color Purple\n",
       "Name: title, dtype: object"
      ]
     },
     "execution_count": 15,
     "metadata": {},
     "output_type": "execute_result"
    }
   ],
   "source": [
    "get_recommendations('The Godfather', small_metadata_df.reset_index(), 20).head(15)"
   ]
  },
  {
   "cell_type": "markdown",
   "id": "4a307717-1cb3-4468-a586-0a1b5da41e86",
   "metadata": {},
   "source": [
    "### Metadata recommender"
   ]
  },
  {
   "cell_type": "code",
   "execution_count": 16,
   "id": "42cc5720-adc7-4d60-8e5b-9084ceb86817",
   "metadata": {},
   "outputs": [
    {
     "data": {
      "text/html": [
       "<div>\n",
       "<style scoped>\n",
       "    .dataframe tbody tr th:only-of-type {\n",
       "        vertical-align: middle;\n",
       "    }\n",
       "\n",
       "    .dataframe tbody tr th {\n",
       "        vertical-align: top;\n",
       "    }\n",
       "\n",
       "    .dataframe thead th {\n",
       "        text-align: right;\n",
       "    }\n",
       "</style>\n",
       "<table border=\"1\" class=\"dataframe\">\n",
       "  <thead>\n",
       "    <tr style=\"text-align: right;\">\n",
       "      <th></th>\n",
       "      <th>cast</th>\n",
       "      <th>crew</th>\n",
       "      <th>id</th>\n",
       "    </tr>\n",
       "  </thead>\n",
       "  <tbody>\n",
       "    <tr>\n",
       "      <th>0</th>\n",
       "      <td>[{'cast_id': 14, 'character': 'Woody (voice)',...</td>\n",
       "      <td>[{'credit_id': '52fe4284c3a36847f8024f49', 'de...</td>\n",
       "      <td>862</td>\n",
       "    </tr>\n",
       "    <tr>\n",
       "      <th>1</th>\n",
       "      <td>[{'cast_id': 1, 'character': 'Alan Parrish', '...</td>\n",
       "      <td>[{'credit_id': '52fe44bfc3a36847f80a7cd1', 'de...</td>\n",
       "      <td>8844</td>\n",
       "    </tr>\n",
       "    <tr>\n",
       "      <th>2</th>\n",
       "      <td>[{'cast_id': 2, 'character': 'Max Goldman', 'c...</td>\n",
       "      <td>[{'credit_id': '52fe466a9251416c75077a89', 'de...</td>\n",
       "      <td>15602</td>\n",
       "    </tr>\n",
       "    <tr>\n",
       "      <th>3</th>\n",
       "      <td>[{'cast_id': 1, 'character': \"Savannah 'Vannah...</td>\n",
       "      <td>[{'credit_id': '52fe44779251416c91011acb', 'de...</td>\n",
       "      <td>31357</td>\n",
       "    </tr>\n",
       "    <tr>\n",
       "      <th>4</th>\n",
       "      <td>[{'cast_id': 1, 'character': 'George Banks', '...</td>\n",
       "      <td>[{'credit_id': '52fe44959251416c75039ed7', 'de...</td>\n",
       "      <td>11862</td>\n",
       "    </tr>\n",
       "  </tbody>\n",
       "</table>\n",
       "</div>"
      ],
      "text/plain": [
       "                                                cast  \\\n",
       "0  [{'cast_id': 14, 'character': 'Woody (voice)',...   \n",
       "1  [{'cast_id': 1, 'character': 'Alan Parrish', '...   \n",
       "2  [{'cast_id': 2, 'character': 'Max Goldman', 'c...   \n",
       "3  [{'cast_id': 1, 'character': \"Savannah 'Vannah...   \n",
       "4  [{'cast_id': 1, 'character': 'George Banks', '...   \n",
       "\n",
       "                                                crew     id  \n",
       "0  [{'credit_id': '52fe4284c3a36847f8024f49', 'de...    862  \n",
       "1  [{'credit_id': '52fe44bfc3a36847f80a7cd1', 'de...   8844  \n",
       "2  [{'credit_id': '52fe466a9251416c75077a89', 'de...  15602  \n",
       "3  [{'credit_id': '52fe44779251416c91011acb', 'de...  31357  \n",
       "4  [{'credit_id': '52fe44959251416c75039ed7', 'de...  11862  "
      ]
     },
     "execution_count": 16,
     "metadata": {},
     "output_type": "execute_result"
    }
   ],
   "source": [
    "credits = pd.read_csv('../datasets/movies_dataset/credits.csv')\n",
    "credits.head(5)"
   ]
  },
  {
   "cell_type": "code",
   "execution_count": 17,
   "id": "3582e5d4-4a9f-45e3-b733-2b1d979fcf2e",
   "metadata": {},
   "outputs": [
    {
     "data": {
      "text/html": [
       "<div>\n",
       "<style scoped>\n",
       "    .dataframe tbody tr th:only-of-type {\n",
       "        vertical-align: middle;\n",
       "    }\n",
       "\n",
       "    .dataframe tbody tr th {\n",
       "        vertical-align: top;\n",
       "    }\n",
       "\n",
       "    .dataframe thead th {\n",
       "        text-align: right;\n",
       "    }\n",
       "</style>\n",
       "<table border=\"1\" class=\"dataframe\">\n",
       "  <thead>\n",
       "    <tr style=\"text-align: right;\">\n",
       "      <th></th>\n",
       "      <th>id</th>\n",
       "      <th>keywords</th>\n",
       "    </tr>\n",
       "  </thead>\n",
       "  <tbody>\n",
       "    <tr>\n",
       "      <th>0</th>\n",
       "      <td>862</td>\n",
       "      <td>[{'id': 931, 'name': 'jealousy'}, {'id': 4290,...</td>\n",
       "    </tr>\n",
       "    <tr>\n",
       "      <th>1</th>\n",
       "      <td>8844</td>\n",
       "      <td>[{'id': 10090, 'name': 'board game'}, {'id': 1...</td>\n",
       "    </tr>\n",
       "    <tr>\n",
       "      <th>2</th>\n",
       "      <td>15602</td>\n",
       "      <td>[{'id': 1495, 'name': 'fishing'}, {'id': 12392...</td>\n",
       "    </tr>\n",
       "    <tr>\n",
       "      <th>3</th>\n",
       "      <td>31357</td>\n",
       "      <td>[{'id': 818, 'name': 'based on novel'}, {'id':...</td>\n",
       "    </tr>\n",
       "    <tr>\n",
       "      <th>4</th>\n",
       "      <td>11862</td>\n",
       "      <td>[{'id': 1009, 'name': 'baby'}, {'id': 1599, 'n...</td>\n",
       "    </tr>\n",
       "  </tbody>\n",
       "</table>\n",
       "</div>"
      ],
      "text/plain": [
       "      id                                           keywords\n",
       "0    862  [{'id': 931, 'name': 'jealousy'}, {'id': 4290,...\n",
       "1   8844  [{'id': 10090, 'name': 'board game'}, {'id': 1...\n",
       "2  15602  [{'id': 1495, 'name': 'fishing'}, {'id': 12392...\n",
       "3  31357  [{'id': 818, 'name': 'based on novel'}, {'id':...\n",
       "4  11862  [{'id': 1009, 'name': 'baby'}, {'id': 1599, 'n..."
      ]
     },
     "execution_count": 17,
     "metadata": {},
     "output_type": "execute_result"
    }
   ],
   "source": [
    "keywords = pd.read_csv('../datasets/movies_dataset/keywords.csv')\n",
    "keywords.head(5)"
   ]
  },
  {
   "cell_type": "markdown",
   "id": "ad727c9e-d564-495f-8071-10306ee8b4f6",
   "metadata": {},
   "source": [
    "Update the dataset by merging the credits and keywords dataframes to the initial."
   ]
  },
  {
   "cell_type": "code",
   "execution_count": 18,
   "id": "9da3333b-db72-4500-9fc6-dc661c19cf4b",
   "metadata": {},
   "outputs": [
    {
     "data": {
      "text/plain": [
       "(46628, 27)"
      ]
     },
     "execution_count": 18,
     "metadata": {},
     "output_type": "execute_result"
    }
   ],
   "source": [
    "keywords['id'] = keywords['id'].astype('int')\n",
    "credits['id'] = credits['id'].astype('int')\n",
    "metadata_df['id'] = metadata_df['id'].astype('int')\n",
    "metadata_df = metadata_df.merge(credits, on='id')\n",
    "metadata_df = metadata_df.merge(keywords, on='id')\n",
    "metadata_df.shape"
   ]
  },
  {
   "cell_type": "code",
   "execution_count": 19,
   "id": "64d76d50-2707-42b7-8ee2-025dbf4eeb81",
   "metadata": {},
   "outputs": [
    {
     "data": {
      "text/plain": [
       "(9219, 27)"
      ]
     },
     "execution_count": 19,
     "metadata": {},
     "output_type": "execute_result"
    }
   ],
   "source": [
    "small_metadata_df = metadata_df[metadata_df['id'].isin(links_small)]\n",
    "small_metadata_df.shape"
   ]
  },
  {
   "cell_type": "markdown",
   "id": "b330892e-8da3-444f-b636-2fc0be27dfeb",
   "metadata": {},
   "source": [
    "After merging crew, cast and keywords on the original dataframe we will use:\n",
    " - **director**  from 'crew', since usually it's the main feature from the list that affects audience's preferences\n",
    " - Top **N** actors from 'cast', since using the whole cast is adding unnecessary complexity"
   ]
  },
  {
   "cell_type": "code",
   "execution_count": 20,
   "id": "4892a462-1132-46bb-b23e-9b2b4ec0264a",
   "metadata": {},
   "outputs": [
    {
     "name": "stderr",
     "output_type": "stream",
     "text": [
      "/tmp/ipykernel_257350/3288429176.py:1: SettingWithCopyWarning: \n",
      "A value is trying to be set on a copy of a slice from a DataFrame.\n",
      "Try using .loc[row_indexer,col_indexer] = value instead\n",
      "\n",
      "See the caveats in the documentation: https://pandas.pydata.org/pandas-docs/stable/user_guide/indexing.html#returning-a-view-versus-a-copy\n",
      "  small_metadata_df['cast'] = small_metadata_df['cast'].apply(literal_eval)\n",
      "/tmp/ipykernel_257350/3288429176.py:2: SettingWithCopyWarning: \n",
      "A value is trying to be set on a copy of a slice from a DataFrame.\n",
      "Try using .loc[row_indexer,col_indexer] = value instead\n",
      "\n",
      "See the caveats in the documentation: https://pandas.pydata.org/pandas-docs/stable/user_guide/indexing.html#returning-a-view-versus-a-copy\n",
      "  small_metadata_df['crew'] = small_metadata_df['crew'].apply(literal_eval)\n",
      "/tmp/ipykernel_257350/3288429176.py:3: SettingWithCopyWarning: \n",
      "A value is trying to be set on a copy of a slice from a DataFrame.\n",
      "Try using .loc[row_indexer,col_indexer] = value instead\n",
      "\n",
      "See the caveats in the documentation: https://pandas.pydata.org/pandas-docs/stable/user_guide/indexing.html#returning-a-view-versus-a-copy\n",
      "  small_metadata_df['keywords'] = small_metadata_df['keywords'].apply(literal_eval)\n",
      "/tmp/ipykernel_257350/3288429176.py:4: SettingWithCopyWarning: \n",
      "A value is trying to be set on a copy of a slice from a DataFrame.\n",
      "Try using .loc[row_indexer,col_indexer] = value instead\n",
      "\n",
      "See the caveats in the documentation: https://pandas.pydata.org/pandas-docs/stable/user_guide/indexing.html#returning-a-view-versus-a-copy\n",
      "  small_metadata_df['cast_size'] = small_metadata_df['cast'].apply(lambda x: len(x))\n",
      "/tmp/ipykernel_257350/3288429176.py:5: SettingWithCopyWarning: \n",
      "A value is trying to be set on a copy of a slice from a DataFrame.\n",
      "Try using .loc[row_indexer,col_indexer] = value instead\n",
      "\n",
      "See the caveats in the documentation: https://pandas.pydata.org/pandas-docs/stable/user_guide/indexing.html#returning-a-view-versus-a-copy\n",
      "  small_metadata_df['crew_size'] = small_metadata_df['crew'].apply(lambda x: len(x))\n"
     ]
    }
   ],
   "source": [
    "small_metadata_df['cast'] = small_metadata_df['cast'].apply(literal_eval)\n",
    "small_metadata_df['crew'] = small_metadata_df['crew'].apply(literal_eval)\n",
    "small_metadata_df['keywords'] = small_metadata_df['keywords'].apply(literal_eval)\n",
    "small_metadata_df['cast_size'] = small_metadata_df['cast'].apply(lambda x: len(x))\n",
    "small_metadata_df['crew_size'] = small_metadata_df['crew'].apply(lambda x: len(x))"
   ]
  },
  {
   "cell_type": "code",
   "execution_count": 21,
   "id": "7153f6ce-d5eb-45db-9093-f70e473aec5a",
   "metadata": {},
   "outputs": [
    {
     "name": "stderr",
     "output_type": "stream",
     "text": [
      "/tmp/ipykernel_257350/4282292404.py:7: SettingWithCopyWarning: \n",
      "A value is trying to be set on a copy of a slice from a DataFrame.\n",
      "Try using .loc[row_indexer,col_indexer] = value instead\n",
      "\n",
      "See the caveats in the documentation: https://pandas.pydata.org/pandas-docs/stable/user_guide/indexing.html#returning-a-view-versus-a-copy\n",
      "  small_metadata_df['director'] = small_metadata_df['crew'].apply(get_director)\n"
     ]
    }
   ],
   "source": [
    "def get_director(x):\n",
    "    for i in x:\n",
    "        if i['job'] == 'Director':\n",
    "            return i['name']\n",
    "    return np.nan\n",
    "\n",
    "small_metadata_df['director'] = small_metadata_df['crew'].apply(get_director)"
   ]
  },
  {
   "cell_type": "code",
   "execution_count": 22,
   "id": "fb512cc5-0a48-4da4-8ac2-b51ee12efba2",
   "metadata": {},
   "outputs": [
    {
     "name": "stderr",
     "output_type": "stream",
     "text": [
      "/tmp/ipykernel_257350/884029961.py:3: SettingWithCopyWarning: \n",
      "A value is trying to be set on a copy of a slice from a DataFrame.\n",
      "Try using .loc[row_indexer,col_indexer] = value instead\n",
      "\n",
      "See the caveats in the documentation: https://pandas.pydata.org/pandas-docs/stable/user_guide/indexing.html#returning-a-view-versus-a-copy\n",
      "  small_metadata_df['cast'] = small_metadata_df['cast'].apply(lambda x: [i['name'] for i in x] if isinstance(x, list) else [])\n",
      "/tmp/ipykernel_257350/884029961.py:4: SettingWithCopyWarning: \n",
      "A value is trying to be set on a copy of a slice from a DataFrame.\n",
      "Try using .loc[row_indexer,col_indexer] = value instead\n",
      "\n",
      "See the caveats in the documentation: https://pandas.pydata.org/pandas-docs/stable/user_guide/indexing.html#returning-a-view-versus-a-copy\n",
      "  small_metadata_df['cast'] = small_metadata_df['cast'].apply(lambda x: x[:N] if len(x) >=N else x)\n",
      "/tmp/ipykernel_257350/884029961.py:5: SettingWithCopyWarning: \n",
      "A value is trying to be set on a copy of a slice from a DataFrame.\n",
      "Try using .loc[row_indexer,col_indexer] = value instead\n",
      "\n",
      "See the caveats in the documentation: https://pandas.pydata.org/pandas-docs/stable/user_guide/indexing.html#returning-a-view-versus-a-copy\n",
      "  small_metadata_df['keywords'] = small_metadata_df['keywords'].apply(lambda x: [i['name'] for i in x] if isinstance(x, list) else [])\n"
     ]
    }
   ],
   "source": [
    "# Define number of actors used \n",
    "N = 3\n",
    "small_metadata_df['cast'] = small_metadata_df['cast'].apply(lambda x: [i['name'] for i in x] if isinstance(x, list) else [])\n",
    "small_metadata_df['cast'] = small_metadata_df['cast'].apply(lambda x: x[:N] if len(x) >=N else x)\n",
    "small_metadata_df['keywords'] = small_metadata_df['keywords'].apply(lambda x: [i['name'] for i in x] if isinstance(x, list) else [])"
   ]
  },
  {
   "cell_type": "markdown",
   "id": "1c6c756d-64e1-42bd-afd9-5f8a9687062e",
   "metadata": {},
   "source": [
    "Following the same approach as above, we will use a vectorizer on a dataset consisting of the **genre**, **director**, **top actors** and **keywords**. Instead of `TfidfVectorizer`, `CountVectorizer` will be used, for computational efficiency, since we aim to count the words' occurencies and not assess their importance as well.\n",
    "\n",
    "Furthermore some data preprocessing needs to take place:\n",
    " - replace whitespace from full names with '_' to avoid confusing people with the same first name and convert them to lowercase\n",
    " - keywords' lemmatization\n",
    "\n",
    "Also we will assign extra weight to the director, by repeating its occurance on the dataset, so that the recommender will provide multiple movies of them.\n",
    "\n",
    "#### Preprocessing"
   ]
  },
  {
   "cell_type": "code",
   "execution_count": 23,
   "id": "8f88b9a4-6358-4d38-ba17-e281d6114f08",
   "metadata": {},
   "outputs": [
    {
     "name": "stderr",
     "output_type": "stream",
     "text": [
      "/tmp/ipykernel_257350/1212987834.py:3: SettingWithCopyWarning: \n",
      "A value is trying to be set on a copy of a slice from a DataFrame.\n",
      "Try using .loc[row_indexer,col_indexer] = value instead\n",
      "\n",
      "See the caveats in the documentation: https://pandas.pydata.org/pandas-docs/stable/user_guide/indexing.html#returning-a-view-versus-a-copy\n",
      "  small_metadata_df['director'] = small_metadata_df['director'].astype('str').apply(lambda x: str.lower(x.replace(\" \", \"_\")))\n",
      "/tmp/ipykernel_257350/1212987834.py:5: SettingWithCopyWarning: \n",
      "A value is trying to be set on a copy of a slice from a DataFrame.\n",
      "Try using .loc[row_indexer,col_indexer] = value instead\n",
      "\n",
      "See the caveats in the documentation: https://pandas.pydata.org/pandas-docs/stable/user_guide/indexing.html#returning-a-view-versus-a-copy\n",
      "  small_metadata_df['director'] = small_metadata_df['director'].apply(lambda x: [x,x, x])\n"
     ]
    }
   ],
   "source": [
    "# Convert names\n",
    "small_metadata_df.loc[:, 'cast'] = small_metadata_df['cast'].apply(lambda x: [str.lower(i.replace(\" \", \"_\")) for i in x])\n",
    "small_metadata_df['director'] = small_metadata_df['director'].astype('str').apply(lambda x: str.lower(x.replace(\" \", \"_\")))\n",
    "# Director extra weight\n",
    "small_metadata_df['director'] = small_metadata_df['director'].apply(lambda x: [x,x, x])"
   ]
  },
  {
   "cell_type": "code",
   "execution_count": 24,
   "id": "4c682d83-1ef8-4721-894f-6d3c2b9b514e",
   "metadata": {},
   "outputs": [
    {
     "data": {
      "text/plain": [
       "keyword\n",
       "independent film        610\n",
       "woman director          550\n",
       "murder                  399\n",
       "duringcreditsstinger    327\n",
       "based on novel          318\n",
       "Name: count, dtype: int64"
      ]
     },
     "execution_count": 24,
     "metadata": {},
     "output_type": "execute_result"
    }
   ],
   "source": [
    "s = small_metadata_df.apply(lambda x: pd.Series(x['keywords']),axis=1).stack().reset_index(level=1, drop=True)\n",
    "s.name = 'keyword'\n",
    "s = s.value_counts()\n",
    "s.head()"
   ]
  },
  {
   "cell_type": "code",
   "execution_count": 25,
   "id": "142140bd-2995-40a8-9b32-099299af649d",
   "metadata": {},
   "outputs": [
    {
     "name": "stdout",
     "output_type": "stream",
     "text": [
      "keyword\n",
      "independent film        610\n",
      "woman director          550\n",
      "murder                  399\n",
      "duringcreditsstinger    327\n",
      "based on novel          318\n",
      "                       ... \n",
      "battlefield              10\n",
      "nazism                   10\n",
      "good and bad             10\n",
      "director                 10\n",
      "female corpse            10\n",
      "Name: count, Length: 1369, dtype: int64\n"
     ]
    }
   ],
   "source": [
    "# Calculate the quantile threshold for the top a% keywords\n",
    "quantile = 0.1  # Specify the percentage of top keywords to keep\n",
    "threshold = s.quantile(1 - quantile)\n",
    "\n",
    "# Filter the keywords based on the threshold\n",
    "top_keywords = s[s >= threshold]\n",
    "\n",
    "print(top_keywords)"
   ]
  },
  {
   "cell_type": "code",
   "execution_count": 26,
   "id": "e9482cb2-9695-4474-9ffb-035e4b5755ef",
   "metadata": {},
   "outputs": [
    {
     "name": "stderr",
     "output_type": "stream",
     "text": [
      "/tmp/ipykernel_257350/2843150605.py:8: SettingWithCopyWarning: \n",
      "A value is trying to be set on a copy of a slice from a DataFrame.\n",
      "Try using .loc[row_indexer,col_indexer] = value instead\n",
      "\n",
      "See the caveats in the documentation: https://pandas.pydata.org/pandas-docs/stable/user_guide/indexing.html#returning-a-view-versus-a-copy\n",
      "  small_metadata_df['keywords'] = small_metadata_df['keywords'].apply(findTopKeywords)\n"
     ]
    }
   ],
   "source": [
    "def findTopKeywords(x):\n",
    "    words = []\n",
    "    for i in x:\n",
    "        if i in s:\n",
    "            words.append(i)\n",
    "    return words\n",
    "\n",
    "small_metadata_df['keywords'] = small_metadata_df['keywords'].apply(findTopKeywords)\n"
   ]
  },
  {
   "cell_type": "code",
   "execution_count": 27,
   "id": "02448722-edcc-4936-9d85-d6515776d124",
   "metadata": {},
   "outputs": [
    {
     "name": "stderr",
     "output_type": "stream",
     "text": [
      "/tmp/ipykernel_257350/2691874713.py:16: SettingWithCopyWarning: \n",
      "A value is trying to be set on a copy of a slice from a DataFrame.\n",
      "Try using .loc[row_indexer,col_indexer] = value instead\n",
      "\n",
      "See the caveats in the documentation: https://pandas.pydata.org/pandas-docs/stable/user_guide/indexing.html#returning-a-view-versus-a-copy\n",
      "  small_metadata_df['keywords'] = small_metadata_df['keywords'].apply(lambda x: lemmatize(x))\n"
     ]
    }
   ],
   "source": [
    "from nltk.tokenize import word_tokenize\n",
    "from nltk.stem import WordNetLemmatizer\n",
    "\n",
    "def lemmatize(text_list):\n",
    "    # Initialize WordNetLemmatizer\n",
    "    lemmatizer = WordNetLemmatizer()\n",
    "    \n",
    "    # Convert each word in the list to lowercase and lemmatize it\n",
    "    lemmatized_words = [lemmatizer.lemmatize(word.lower()) for word in text_list]\n",
    "    \n",
    "    # Replace whitespace in lemmatized words with '_'\n",
    "    lemmatized_words = [word.replace(' ', '_') for word in lemmatized_words]\n",
    "    \n",
    "    return lemmatized_words\n",
    "\n",
    "small_metadata_df['keywords'] = small_metadata_df['keywords'].apply(lambda x: lemmatize(x))"
   ]
  },
  {
   "cell_type": "code",
   "execution_count": 28,
   "id": "2bd49641-555d-4b89-ada9-93312cea50ac",
   "metadata": {},
   "outputs": [
    {
     "name": "stdout",
     "output_type": "stream",
     "text": [
      "0    [jealousy, toy, boy, friendship, friend, rival...\n",
      "1    [board_game, disappearance, based_on_children'...\n",
      "2    [fishing, best_friend, duringcreditsstinger, o...\n",
      "3    [based_on_novel, interracial_relationship, sin...\n",
      "4    [baby, midlife_crisis, confidence, aging, daug...\n",
      "5    [robbery, detective, bank, obsession, chase, s...\n",
      "Name: keywords, dtype: object\n"
     ]
    }
   ],
   "source": [
    "# Print lemmatization result sample\n",
    "print(small_metadata_df.loc[:5]['keywords'])"
   ]
  },
  {
   "cell_type": "code",
   "execution_count": 29,
   "id": "b90c4659-4687-4c82-b4de-c340c1b98bd3",
   "metadata": {},
   "outputs": [
    {
     "name": "stdout",
     "output_type": "stream",
     "text": [
      "0        jealousy toy boy friendship friend rivalry boy...\n",
      "1        board_game disappearance based_on_children's_b...\n",
      "2        fishing best_friend duringcreditsstinger old_m...\n",
      "3        based_on_novel interracial_relationship single...\n",
      "4        baby midlife_crisis confidence aging daughter ...\n",
      "                               ...                        \n",
      "45985    sequel pokémon celebi veronica_taylor rachael_...\n",
      "46424    female_nudity dark_comedy family_vacation aval...\n",
      "46425    female_nudity dark_comedy family_vacation aval...\n",
      "46426    female_nudity dark_comedy family_vacation aval...\n",
      "46427    female_nudity dark_comedy family_vacation aval...\n",
      "Name: soup, Length: 9219, dtype: object\n"
     ]
    },
    {
     "name": "stderr",
     "output_type": "stream",
     "text": [
      "/tmp/ipykernel_257350/2872133453.py:4: SettingWithCopyWarning: \n",
      "A value is trying to be set on a copy of a slice from a DataFrame.\n",
      "Try using .loc[row_indexer,col_indexer] = value instead\n",
      "\n",
      "See the caveats in the documentation: https://pandas.pydata.org/pandas-docs/stable/user_guide/indexing.html#returning-a-view-versus-a-copy\n",
      "  small_metadata_df['keywords'] = small_metadata_df['keywords'].apply(lambda x: ' '.join(x))\n",
      "/tmp/ipykernel_257350/2872133453.py:5: SettingWithCopyWarning: \n",
      "A value is trying to be set on a copy of a slice from a DataFrame.\n",
      "Try using .loc[row_indexer,col_indexer] = value instead\n",
      "\n",
      "See the caveats in the documentation: https://pandas.pydata.org/pandas-docs/stable/user_guide/indexing.html#returning-a-view-versus-a-copy\n",
      "  small_metadata_df['cast'] = small_metadata_df['cast'].apply(lambda x: ' '.join(x))\n",
      "/tmp/ipykernel_257350/2872133453.py:6: SettingWithCopyWarning: \n",
      "A value is trying to be set on a copy of a slice from a DataFrame.\n",
      "Try using .loc[row_indexer,col_indexer] = value instead\n",
      "\n",
      "See the caveats in the documentation: https://pandas.pydata.org/pandas-docs/stable/user_guide/indexing.html#returning-a-view-versus-a-copy\n",
      "  small_metadata_df['director'] = small_metadata_df['director'].apply(lambda x: ' '.join(x))\n",
      "/tmp/ipykernel_257350/2872133453.py:7: SettingWithCopyWarning: \n",
      "A value is trying to be set on a copy of a slice from a DataFrame.\n",
      "Try using .loc[row_indexer,col_indexer] = value instead\n",
      "\n",
      "See the caveats in the documentation: https://pandas.pydata.org/pandas-docs/stable/user_guide/indexing.html#returning-a-view-versus-a-copy\n",
      "  small_metadata_df['genres'] = small_metadata_df['genres'].apply(lambda x: ' '.join(x))\n",
      "/tmp/ipykernel_257350/2872133453.py:10: SettingWithCopyWarning: \n",
      "A value is trying to be set on a copy of a slice from a DataFrame.\n",
      "Try using .loc[row_indexer,col_indexer] = value instead\n",
      "\n",
      "See the caveats in the documentation: https://pandas.pydata.org/pandas-docs/stable/user_guide/indexing.html#returning-a-view-versus-a-copy\n",
      "  small_metadata_df['soup'] = small_metadata_df['keywords'] + ' ' + small_metadata_df['cast'] + ' ' + small_metadata_df['director'] + ' ' + small_metadata_df['genres']\n"
     ]
    }
   ],
   "source": [
    "# Create a new column containing all the features (input) in one string\n",
    "\n",
    "# Convert lists to strings before concatenating\n",
    "small_metadata_df['keywords'] = small_metadata_df['keywords'].apply(lambda x: ' '.join(x))\n",
    "small_metadata_df['cast'] = small_metadata_df['cast'].apply(lambda x: ' '.join(x))\n",
    "small_metadata_df['director'] = small_metadata_df['director'].apply(lambda x: ' '.join(x))\n",
    "small_metadata_df['genres'] = small_metadata_df['genres'].apply(lambda x: ' '.join(x))\n",
    "\n",
    "# Concatenate the columns\n",
    "small_metadata_df['soup'] = small_metadata_df['keywords'] + ' ' + small_metadata_df['cast'] + ' ' + small_metadata_df['director'] + ' ' + small_metadata_df['genres']\n",
    "\n",
    "# Display the updated DataFrame\n",
    "print(small_metadata_df['soup'])"
   ]
  },
  {
   "cell_type": "markdown",
   "id": "f2aedefa-31ea-4ff3-8125-97d3cdb1dfd3",
   "metadata": {},
   "source": [
    "#### Model"
   ]
  },
  {
   "cell_type": "code",
   "execution_count": 30,
   "id": "0f7c986a-238a-42a9-8982-b5f61be5ab6a",
   "metadata": {},
   "outputs": [],
   "source": [
    "from sklearn.feature_extraction.text import CountVectorizer\n",
    "\n",
    "count = CountVectorizer(analyzer='word',ngram_range=(1, 2),min_df=0.0, stop_words='english')\n",
    "count_matrix = count.fit_transform(small_metadata_df['soup'])\n",
    "\n",
    "# Compute cosine similarity\n",
    "cosine_sim = cosine_similarity(count_matrix, count_matrix)"
   ]
  },
  {
   "cell_type": "markdown",
   "id": "9b5c4f17-4781-4631-8ca7-6f4d76ec8a86",
   "metadata": {},
   "source": [
    "#### Results"
   ]
  },
  {
   "cell_type": "code",
   "execution_count": 31,
   "id": "309e3b2e-2f94-4a6f-aa88-35e3a3de92c7",
   "metadata": {},
   "outputs": [
    {
     "data": {
      "text/plain": [
       "3600    Tucker: The Man and His Dream\n",
       "982            The Godfather: Part II\n",
       "1338                    The Rainmaker\n",
       "3689                  The Cotton Club\n",
       "4490               One from the Heart\n",
       "3292                 Gardens of Stone\n",
       "1594          The Godfather: Part III\n",
       "2990                 The Conversation\n",
       "1984            Peggy Sue Got Married\n",
       "1683                    The Outsiders\n",
       "5831                      Rumble Fish\n",
       "638                              Jack\n",
       "969                    Apocalypse Now\n",
       "1088                          Dracula\n",
       "4128                      The Gambler\n",
       "Name: title, dtype: object"
      ]
     },
     "execution_count": 31,
     "metadata": {},
     "output_type": "execute_result"
    }
   ],
   "source": [
    "small_metadata_df = small_metadata_df.reset_index()\n",
    "titles = small_metadata_df['title']\n",
    "indices = pd.Series(small_metadata_df.index, index=small_metadata_df['title'])\n",
    "\n",
    "get_recommendations('The Godfather', small_metadata_df, 20).head(15)"
   ]
  },
  {
   "cell_type": "code",
   "execution_count": 32,
   "id": "a43c8698-4a1a-40b7-b29e-93182062166e",
   "metadata": {},
   "outputs": [
    {
     "data": {
      "text/plain": [
       "7991                 The Dark Knight Rises\n",
       "6186                         Batman Begins\n",
       "6587                          The Prestige\n",
       "2077                             Following\n",
       "4125                              Insomnia\n",
       "7608                             Inception\n",
       "3373                               Memento\n",
       "8573                          Interstellar\n",
       "7619            Batman: Under the Red Hood\n",
       "1122                        Batman Returns\n",
       "8899               Kidnapping Mr. Heineken\n",
       "5907                              Thursday\n",
       "1252                        Batman & Robin\n",
       "9004    Batman v Superman: Dawn of Justice\n",
       "4005                  The Long Good Friday\n",
       "Name: title, dtype: object"
      ]
     },
     "execution_count": 32,
     "metadata": {},
     "output_type": "execute_result"
    }
   ],
   "source": [
    "get_recommendations('The Dark Knight', small_metadata_df, 20).head(15)"
   ]
  },
  {
   "cell_type": "markdown",
   "id": "e44b862a-6340-438c-a224-bac38b287daf",
   "metadata": {},
   "source": [
    "## Next step\n",
    "As a result, our recommender suggests movies from the same director since we've assigned extra importance to this feature. As a next step one could create a **Collaboration-based** model that uses the `ratings_small.csv` to take into consideration each user's rating for different movies. This will result into a model that suggests movies to each user based also on how they, and other users with similar taste, rated watched movies."
   ]
  }
 ],
 "metadata": {
  "kernelspec": {
   "display_name": ".venv",
   "language": "python",
   "name": ".venv"
  },
  "language_info": {
   "codemirror_mode": {
    "name": "ipython",
    "version": 3
   },
   "file_extension": ".py",
   "mimetype": "text/x-python",
   "name": "python",
   "nbconvert_exporter": "python",
   "pygments_lexer": "ipython3",
   "version": "3.10.12"
  }
 },
 "nbformat": 4,
 "nbformat_minor": 5
}
